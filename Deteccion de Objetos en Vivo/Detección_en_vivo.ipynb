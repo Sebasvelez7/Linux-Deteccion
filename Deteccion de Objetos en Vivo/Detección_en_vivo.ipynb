{
  "nbformat": 4,
  "nbformat_minor": 0,
  "metadata": {
    "colab": {
      "provenance": []
    },
    "kernelspec": {
      "name": "python3",
      "display_name": "Python 3"
    },
    "language_info": {
      "name": "python"
    }
  },
  "cells": [
    {
      "cell_type": "code",
      "execution_count": null,
      "metadata": {
        "id": "CdpCqJc7S-E5"
      },
      "outputs": [],
      "source": [
        "import jetson. inference\n",
        "import jetson.utils\n",
        "net = jetson.inference.detectNet(\"ssd-mobilenet-v2\" ,threshold= 0.5)\n",
        "camera = jetson.utils.ostCamera(640, 480,\"/dev/video0\")\n",
        "display = jetson.utils.glDisplay()\n",
        "while display.IsOpen():\n",
        "     img, width, height = carera. CaptureRGBA()\n",
        "     detections = net.Detect(img, width, height)\n",
        "     display.RenderOnce(img, wldth, height)\n",
        "     display.SetTitle(\"Object Detection | Network (:.Of] FPS\" .format (net.GetfetworkFPS())))"
      ]
    }
  ]
}