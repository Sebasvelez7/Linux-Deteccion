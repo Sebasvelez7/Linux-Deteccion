{
  "nbformat": 4,
  "nbformat_minor": 0,
  "metadata": {
    "colab": {
      "provenance": []
    },
    "kernelspec": {
      "name": "python3",
      "display_name": "Python 3"
    },
    "language_info": {
      "name": "python"
    }
  },
  "cells": [
    {
      "cell_type": "code",
      "execution_count": null,
      "metadata": {
        "id": "dKvQ4HUtQOsD"
      },
      "outputs": [],
      "source": [
        "import cv2\n",
        "from ultralytics import YOLO\n",
        "import time\n",
        "\n",
        "# Cargar el modelo YOLOv8 entrenado\n",
        "model = YOLO('best.pt')\n",
        "\n",
        "# Conectar la cámara (usando video0)\n",
        "cap = cv2.VideoCapture(0)\n",
        "\n",
        "# Verificar si la cámara se abrió correctamente\n",
        "if not cap.isOpened():\n",
        "    print(\"Error: No se pudo abrir la cámara.\")\n",
        "    exit()\n",
        "\n",
        "# Establecer el tamaño del frame\n",
        "cap.set(cv2.CAP_PROP_FRAME_WIDTH, 640)\n",
        "cap.set(cv2.CAP_PROP_FRAME_HEIGHT, 360)\n",
        "\n",
        "# Crear la ventana para mostrar el video\n",
        "cv2.namedWindow(\"Detección de animales salvajes\", cv2.WINDOW_NORMAL)\n",
        "\n",
        "while True:\n",
        "    # Leer un frame de la cámara\n",
        "    ret, frame = cap.read()\n",
        "\n",
        "    # Verificar si se capturó el frame correctamente\n",
        "    if not ret:\n",
        "        print(\"Error: No se pudo capturar el frame.\")\n",
        "        break\n",
        "\n",
        "    # Registrar el tiempo de inicio\n",
        "    start_time = time.time()\n",
        "\n",
        "    # Aplicar el modelo YOLO para hacer las detecciones\n",
        "    results = model(frame)\n",
        "\n",
        "    # Procesar y dibujar las cajas de detección en el frame\n",
        "    for result in results:\n",
        "        boxes = result.boxes\n",
        "        for box in boxes:\n",
        "            x1, y1, x2, y2 = map(int, box.xyxy[0])\n",
        "            confidence = box.conf[0]\n",
        "            class_id = int(box.cls[0])\n",
        "            label = f'{model.names[class_id]} {confidence:.2f}'\n",
        "\n",
        "            # Dibujar la caja alrededor del objeto detectado\n",
        "            cv2.rectangle(frame, (x1, y1), (x2, y2), (0, 255, 0), 2)\n",
        "            cv2.putText(frame, label, (x1, y1 - 10), cv2.FONT_HERSHEY_SIMPLEX, 0.9, (0, 255, 0), 2)\n",
        "\n",
        "    # Mostrar el frame con las detecciones\n",
        "    cv2.imshow(\"Detección de animales salvajes\", frame)\n",
        "\n",
        "    # Calcular el tiempo de procesamiento\n",
        "    processing_time = time.time() - start_time\n",
        "    fps = 1 / processing_time  # Calcula los fps actuales\n",
        "\n",
        "    # Imprimir los fps cada 5 segundos\n",
        "    if int(time.time()) % 5 == 0:\n",
        "        print(f'FPS: {fps:.2f}')\n",
        "\n",
        "    # Salir al presionar la tecla 'q'\n",
        "    if cv2.waitKey(1) & 0xFF == ord('q'):\n",
        "        break\n",
        "\n",
        "# Libera la cámara y cierra la ventana\n",
        "cap.release()\n",
        "cv2.destroyAllWindows()\n"
      ]
    }
  ]
}